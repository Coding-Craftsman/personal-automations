{
 "cells": [
  {
   "cell_type": "code",
   "execution_count": 1,
   "id": "7b718f10-759f-4c23-b5d3-4990eb2b363e",
   "metadata": {},
   "outputs": [],
   "source": [
    "import os\n",
    "import requests"
   ]
  },
  {
   "cell_type": "code",
   "execution_count": 21,
   "id": "70d02182-4ed8-4a2e-8cea-5140b58e0129",
   "metadata": {},
   "outputs": [],
   "source": [
    "def download_shows(start_show_number, end_show_number, save_location):\n",
    "    for show in range(start_show_number, end_show_number + 1):\n",
    "        print(f'Downloading episode: {str(show).zfill(3)}')\n",
    "\n",
    "        show_string = str(show).zfill(3)\n",
    "        sn_transcript_url = f'https://www.grc.com/sn/sn-{show_string}.txt'\n",
    "        sn_mp3_url = f'https://media.grc.com/sn/sn-{show_string}.mp3'\n",
    "\n",
    "        response = requests.get(sn_transcript_url)\n",
    "        with open(os.path.join(save_location, 'text-transcript', f'sn-{show_string}.txt'), mode='wb') as file:\n",
    "            file.write(response.content)\n",
    "\n",
    "        response = requests.get(sn_mp3_url)\n",
    "        with open(os.path.join(save_location, 'mp3', f'sn-{show_string}.mp3'), mode='wb') as file:\n",
    "            file.write(response.content)\n",
    "\n",
    "    print(\"Done!\")"
   ]
  },
  {
   "cell_type": "code",
   "execution_count": 22,
   "id": "4f371826-ddaa-4b47-8cb3-be6f4778615d",
   "metadata": {},
   "outputs": [
    {
     "name": "stdout",
     "output_type": "stream",
     "text": [
      "Downloading episode: 001\n",
      "Downloading episode: 002\n",
      "Downloading episode: 003\n",
      "Downloading episode: 004\n",
      "Downloading episode: 005\n",
      "Downloading episode: 006\n",
      "Downloading episode: 007\n",
      "Downloading episode: 008\n",
      "Downloading episode: 009\n",
      "Downloading episode: 010\n",
      "Downloading episode: 011\n",
      "Downloading episode: 012\n",
      "Downloading episode: 013\n",
      "Downloading episode: 014\n",
      "Downloading episode: 015\n",
      "Downloading episode: 016\n",
      "Downloading episode: 017\n",
      "Downloading episode: 018\n",
      "Downloading episode: 019\n",
      "Downloading episode: 020\n",
      "Done!\n"
     ]
    }
   ],
   "source": [
    "download_shows(1, 20, 'D:\\\\securityNow')"
   ]
  },
  {
   "cell_type": "code",
   "execution_count": null,
   "id": "c9d6b65d-076a-47ae-9c2f-5cf380f8f7f4",
   "metadata": {},
   "outputs": [],
   "source": []
  }
 ],
 "metadata": {
  "kernelspec": {
   "display_name": "Python 3 (ipykernel)",
   "language": "python",
   "name": "python3"
  },
  "language_info": {
   "codemirror_mode": {
    "name": "ipython",
    "version": 3
   },
   "file_extension": ".py",
   "mimetype": "text/x-python",
   "name": "python",
   "nbconvert_exporter": "python",
   "pygments_lexer": "ipython3",
   "version": "3.12.0"
  }
 },
 "nbformat": 4,
 "nbformat_minor": 5
}
