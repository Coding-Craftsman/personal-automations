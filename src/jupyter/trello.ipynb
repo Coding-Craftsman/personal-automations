{
 "cells": [
  {
   "cell_type": "code",
   "execution_count": 47,
   "id": "562a4a73-e90c-4b38-bad6-ff90a9d7cc5b",
   "metadata": {},
   "outputs": [],
   "source": [
    "import os\n",
    "import requests\n",
    "import json"
   ]
  },
  {
   "cell_type": "code",
   "execution_count": 48,
   "id": "1ad24068-f340-4558-9f26-7bb6f48773bf",
   "metadata": {},
   "outputs": [],
   "source": [
    "api_key = os.environ['TRELLO_API_KEY']\n",
    "api_token = os.environ['TRELLO_API_TOKEN']"
   ]
  },
  {
   "cell_type": "code",
   "execution_count": 55,
   "id": "21fae8ec-6e00-43e0-9c8d-d162da43ed04",
   "metadata": {},
   "outputs": [],
   "source": [
    "list_id = '646bdffeac1b638e9ed6e394'"
   ]
  },
  {
   "cell_type": "code",
   "execution_count": 49,
   "id": "aac48a2c-3416-4869-be9f-9efe5925ab60",
   "metadata": {},
   "outputs": [],
   "source": [
    "url = f'https://api.trello.com/1/members/me/boards?key={api_key}&token={api_token}'"
   ]
  },
  {
   "cell_type": "code",
   "execution_count": 50,
   "id": "d81d017b-c511-4641-b752-98014d6d9aa0",
   "metadata": {},
   "outputs": [],
   "source": [
    "response = requests.get(url)\n",
    "#print(response.content)\n",
    "boards = json.loads(response.content)"
   ]
  },
  {
   "cell_type": "code",
   "execution_count": 51,
   "id": "c36f6d73-e45a-4c0a-a77b-cecbeab5750a",
   "metadata": {
    "scrolled": true
   },
   "outputs": [
    {
     "name": "stdout",
     "output_type": "stream",
     "text": [
      "{'id': '646bdff00c39cb8cd1e33567', 'nodeId': 'ari:cloud:trello::board/workspace/60c98285cb41eb8ad531dd14/646bdff00c39cb8cd1e33567', 'name': 'Chores', 'desc': '', 'descData': None, 'closed': False, 'dateClosed': None, 'idOrganization': '60c98285cb41eb8ad531dd14', 'idEnterprise': None, 'limits': {'attachments': {'perBoard': {'status': 'ok', 'disableAt': 36000, 'warnAt': 28800}, 'perCard': {'status': 'ok', 'disableAt': 1000, 'warnAt': 800}}, 'boards': {'totalMembersPerBoard': {'status': 'ok', 'disableAt': 1600, 'warnAt': 1280}, 'totalAccessRequestsPerBoard': {'status': 'ok', 'disableAt': 4000, 'warnAt': 3200}}, 'cards': {'openPerBoard': {'status': 'ok', 'disableAt': 5000, 'warnAt': 4000}, 'openPerList': {'status': 'ok', 'disableAt': 5000, 'warnAt': 4000}, 'totalPerBoard': {'status': 'ok', 'disableAt': 2000000, 'warnAt': 1600000}, 'totalPerList': {'status': 'ok', 'disableAt': 1000000, 'warnAt': 800000}}, 'checklists': {'perBoard': {'status': 'ok', 'disableAt': 1800000, 'warnAt': 1440000}, 'perCard': {'status': 'ok', 'disableAt': 500, 'warnAt': 400}}, 'checkItems': {'perChecklist': {'status': 'ok', 'disableAt': 200, 'warnAt': 160}}, 'customFields': {'perBoard': {'status': 'ok', 'disableAt': 50, 'warnAt': 40}}, 'customFieldOptions': {'perField': {'status': 'ok', 'disableAt': 50, 'warnAt': 40}}, 'labels': {'perBoard': {'status': 'ok', 'disableAt': 1000, 'warnAt': 800}}, 'lists': {'openPerBoard': {'status': 'ok', 'disableAt': 500, 'warnAt': 400}, 'totalPerBoard': {'status': 'ok', 'disableAt': 3000, 'warnAt': 2400}}, 'stickers': {'perCard': {'status': 'ok', 'disableAt': 70, 'warnAt': 56}}, 'reactions': {'perAction': {'status': 'ok', 'disableAt': 900, 'warnAt': 720}, 'uniquePerAction': {'status': 'ok', 'disableAt': 17, 'warnAt': 14}}}, 'pinned': False, 'starred': True, 'url': 'https://trello.com/b/7fvxdEF5/chores', 'prefs': {'permissionLevel': 'org', 'hideVotes': False, 'voting': 'members', 'comments': 'members', 'invitations': 'members', 'selfJoin': True, 'cardCovers': True, 'cardCounts': False, 'isTemplate': False, 'cardAging': 'regular', 'calendarFeedEnabled': False, 'hiddenPluginBoardButtons': [], 'switcherViews': [{'viewType': 'Board', 'enabled': True}, {'viewType': 'Table', 'enabled': True}, {'viewType': 'Calendar', 'enabled': False}, {'viewType': 'Dashboard', 'enabled': False}, {'viewType': 'Timeline', 'enabled': False}, {'viewType': 'Map', 'enabled': False}], 'background': '646bdff20c39cb8cd1e3371b', 'backgroundColor': None, 'backgroundImage': 'https://trello-backgrounds.s3.amazonaws.com/SharedBackground/original/8f19d8d5cc694c5d43de52dffdaf296f/photo-1683259867235-4032eed8d7c9', 'backgroundTile': False, 'backgroundBrightness': 'light', 'sharedSourceUrl': 'https://images.unsplash.com/photo-1683259867235-4032eed8d7c9?h=2048&q=90&ixid=M3w3MDY3fDB8MXxjb2xsZWN0aW9ufDI1fDMxNzA5OXx8fHx8Mnx8MTY4NDc4NTQwNHw&w=2560&ixlib=rb-4.0.3', 'backgroundImageScaled': [{'width': 75, 'height': 100, 'url': 'https://trello-backgrounds.s3.amazonaws.com/SharedBackground/75x100/c2c43461eb28aff60fadce801d21219a/photo-1683259867235-4032eed8d7c9.jpg'}, {'width': 144, 'height': 192, 'url': 'https://trello-backgrounds.s3.amazonaws.com/SharedBackground/144x192/c2c43461eb28aff60fadce801d21219a/photo-1683259867235-4032eed8d7c9.jpg'}, {'width': 360, 'height': 480, 'url': 'https://trello-backgrounds.s3.amazonaws.com/SharedBackground/360x480/c2c43461eb28aff60fadce801d21219a/photo-1683259867235-4032eed8d7c9.jpg'}, {'width': 720, 'height': 960, 'url': 'https://trello-backgrounds.s3.amazonaws.com/SharedBackground/720x960/c2c43461eb28aff60fadce801d21219a/photo-1683259867235-4032eed8d7c9.jpg'}, {'width': 768, 'height': 1024, 'url': 'https://trello-backgrounds.s3.amazonaws.com/SharedBackground/768x1024/c2c43461eb28aff60fadce801d21219a/photo-1683259867235-4032eed8d7c9.jpg'}, {'width': 959, 'height': 1280, 'url': 'https://trello-backgrounds.s3.amazonaws.com/SharedBackground/959x1280/c2c43461eb28aff60fadce801d21219a/photo-1683259867235-4032eed8d7c9.jpg'}, {'width': 1199, 'height': 1600, 'url': 'https://trello-backgrounds.s3.amazonaws.com/SharedBackground/1199x1600/c2c43461eb28aff60fadce801d21219a/photo-1683259867235-4032eed8d7c9.jpg'}, {'width': 1439, 'height': 1920, 'url': 'https://trello-backgrounds.s3.amazonaws.com/SharedBackground/1439x1920/c2c43461eb28aff60fadce801d21219a/photo-1683259867235-4032eed8d7c9.jpg'}, {'width': 1535, 'height': 2048, 'url': 'https://trello-backgrounds.s3.amazonaws.com/SharedBackground/original/8f19d8d5cc694c5d43de52dffdaf296f/photo-1683259867235-4032eed8d7c9'}], 'backgroundBottomColor': '#2e5558', 'backgroundTopColor': '#cb9e7f', 'canBePublic': True, 'canBeEnterprise': True, 'canBeOrg': True, 'canBePrivate': True, 'canInvite': True}, 'shortLink': '7fvxdEF5', 'subscribed': False, 'labelNames': {'green': 'Mum', 'yellow': '', 'orange': '', 'red': 'Dad', 'purple': 'Natalie', 'blue': 'Landon', 'sky': '', 'lime': '', 'pink': '', 'black': '', 'green_dark': '', 'yellow_dark': '', 'orange_dark': '', 'red_dark': '', 'purple_dark': '', 'blue_dark': '', 'sky_dark': '', 'lime_dark': '', 'pink_dark': '', 'black_dark': '', 'green_light': '', 'yellow_light': '', 'orange_light': '', 'red_light': '', 'purple_light': '', 'blue_light': '', 'sky_light': '', 'lime_light': '', 'pink_light': '', 'black_light': ''}, 'powerUps': [], 'dateLastActivity': '2024-04-21T13:48:22.459Z', 'dateLastView': '2024-04-21T13:53:23.066Z', 'shortUrl': 'https://trello.com/b/7fvxdEF5', 'idTags': [], 'datePluginDisable': None, 'creationMethod': None, 'ixUpdate': '7525', 'templateGallery': None, 'enterpriseOwned': False, 'idBoardSource': None, 'premiumFeatures': ['additionalBoardBackgrounds', 'additionalStickers', 'customBoardBackgrounds', 'customEmoji', 'customStickers', 'plugins'], 'idMemberCreator': '574ae90d65d49836efdaf59b', 'memberships': [{'id': '646bdff00c39cb8cd1e3356f', 'idMember': '574ae90d65d49836efdaf59b', 'memberType': 'admin', 'unconfirmed': False, 'deactivated': False}, {'id': '6490566502caad9e374779e5', 'idMember': '6490566402caad9e37477332', 'memberType': 'normal', 'unconfirmed': False, 'deactivated': False}]}\n"
     ]
    }
   ],
   "source": [
    "for item in boards:\n",
    "    if item['name'] == 'Chores':\n",
    "        print(item)"
   ]
  },
  {
   "cell_type": "code",
   "execution_count": 52,
   "id": "76752314-8463-4a0e-8e0b-fb8352387e5f",
   "metadata": {},
   "outputs": [],
   "source": [
    "board_id = \"646bdff00c39cb8cd1e33567\"\n",
    "url =  f'https://api.trello.com/1/boards/{board_id}/cards?key={api_key}&token={api_token}'"
   ]
  },
  {
   "cell_type": "code",
   "execution_count": 64,
   "id": "ce22048d-08a9-4c97-a780-7d02921afdca",
   "metadata": {},
   "outputs": [],
   "source": [
    "response = requests.get(url)\n",
    "cards = json.loads(response.content)"
   ]
  },
  {
   "cell_type": "code",
   "execution_count": 24,
   "id": "2b654210-5c0d-4965-9aeb-35c1cca507f2",
   "metadata": {},
   "outputs": [],
   "source": [
    "def mark_checklist_incomplete(api_key, api_token, card_id, check_item_id):\n",
    "    incomplete_url = f\"https://api.trello.com/1/cards/{card_id}/checkItem/{check_item_id}\"\n",
    "\n",
    "    data = {\n",
    "        'key': f'{api_key}',\n",
    "        'token': f'{api_token}',\n",
    "        'state': 'incomplete'\n",
    "    }\n",
    "\n",
    "    requests.put(incomplete_url, data=data)\n"
   ]
  },
  {
   "cell_type": "code",
   "execution_count": 57,
   "id": "32e86d6a-bcc0-4cc4-a847-6608971d6de5",
   "metadata": {},
   "outputs": [],
   "source": [
    "def move_card_to_list(api_key, api_token, card_id, list_id):\n",
    "    update_card_url = f'https://api.trello.com/1/cards/{card_id}'\n",
    "\n",
    "    data = {\n",
    "        'key': f'{api_key}',\n",
    "        'token': f'{api_token}',        \n",
    "        'idList':f'{list_id}'\n",
    "    }\n",
    "\n",
    "    requests.put(update_card_url, data=data)"
   ]
  },
  {
   "cell_type": "code",
   "execution_count": 66,
   "id": "f8616dc5-89fa-42e8-8c84-bf7108d4c399",
   "metadata": {},
   "outputs": [],
   "source": [
    "for card in cards:\n",
    "    for label in card['labels']:\n",
    "        if label['name'] == 'Daily':\n",
    "            move_card_to_list(api_key, api_token, card['id'], list_id)\n",
    "            for check_item in card['checkItemStates']:\n",
    "                mark_checklist_incomplete(api_key, api_token, card['id'], check_item['idCheckItem'])"
   ]
  },
  {
   "cell_type": "code",
   "execution_count": null,
   "id": "1b80121f-36fc-49dc-be20-5305f69e4c13",
   "metadata": {},
   "outputs": [],
   "source": []
  }
 ],
 "metadata": {
  "kernelspec": {
   "display_name": "Python 3 (ipykernel)",
   "language": "python",
   "name": "python3"
  },
  "language_info": {
   "codemirror_mode": {
    "name": "ipython",
    "version": 3
   },
   "file_extension": ".py",
   "mimetype": "text/x-python",
   "name": "python",
   "nbconvert_exporter": "python",
   "pygments_lexer": "ipython3",
   "version": "3.12.0"
  }
 },
 "nbformat": 4,
 "nbformat_minor": 5
}
